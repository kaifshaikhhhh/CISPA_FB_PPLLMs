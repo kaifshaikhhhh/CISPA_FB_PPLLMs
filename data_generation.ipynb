{
 "cells": [
  {
   "cell_type": "code",
   "execution_count": 1,
   "metadata": {},
   "outputs": [],
   "source": [
    "import os\n",
    "import shutil\n",
    "import datasets\n",
    "import pandas as pd\n",
    "\n",
    "from datasets import load_dataset\n",
    "from tqdm.auto import tqdm"
   ]
  },
  {
   "cell_type": "code",
   "execution_count": 2,
   "metadata": {},
   "outputs": [],
   "source": [
    "tqdm.pandas()"
   ]
  },
  {
   "cell_type": "code",
   "execution_count": 3,
   "metadata": {},
   "outputs": [],
   "source": [
    "def download_data(subset):\n",
    "    cache_dir = '.cache'\n",
    "\n",
    "    if os.path.exists(cache_dir):\n",
    "        shutil.rmtree(cache_dir)\n",
    "\n",
    "    subset = load_dataset('glue', subset, cache_dir=cache_dir)\n",
    "\n",
    "    return subset"
   ]
  },
  {
   "cell_type": "code",
   "execution_count": 5,
   "metadata": {},
   "outputs": [
    {
     "data": {
      "application/vnd.jupyter.widget-view+json": {
       "model_id": "ee71382aaabb425d801ef1487049ae4b",
       "version_major": 2,
       "version_minor": 0
      },
      "text/plain": [
       "Downloading data:   0%|          | 0.00/7.44M [00:00<?, ?B/s]"
      ]
     },
     "metadata": {},
     "output_type": "display_data"
    },
    {
     "data": {
      "application/vnd.jupyter.widget-view+json": {
       "model_id": "da378356bf7e47c692b50ea04083db95",
       "version_major": 2,
       "version_minor": 0
      },
      "text/plain": [
       "Generating train split:   0%|          | 0/67349 [00:00<?, ? examples/s]"
      ]
     },
     "metadata": {},
     "output_type": "display_data"
    },
    {
     "data": {
      "application/vnd.jupyter.widget-view+json": {
       "model_id": "bba501f1f9f74730ae43707d8e03d8d0",
       "version_major": 2,
       "version_minor": 0
      },
      "text/plain": [
       "Generating validation split:   0%|          | 0/872 [00:00<?, ? examples/s]"
      ]
     },
     "metadata": {},
     "output_type": "display_data"
    },
    {
     "data": {
      "application/vnd.jupyter.widget-view+json": {
       "model_id": "92f7e48707f7440381a6eda20a043cf4",
       "version_major": 2,
       "version_minor": 0
      },
      "text/plain": [
       "Generating test split:   0%|          | 0/1821 [00:00<?, ? examples/s]"
      ]
     },
     "metadata": {},
     "output_type": "display_data"
    },
    {
     "name": "stdout",
     "output_type": "stream",
     "text": [
      "SST2 Train Rows: 67349 | Columns: 3\n",
      "SST2 Val Rows: 872 | Columns: 3\n",
      "SST2 Test Rows: 1821 | Columns: 3\n"
     ]
    }
   ],
   "source": [
    "sst2 = download_data('sst2')\n",
    "\n",
    "sst2_train = sst2['train']\n",
    "sst2_val = sst2['validation']\n",
    "sst2_test = sst2['test']\n",
    "\n",
    "sst2_train_df = pd.DataFrame(sst2_train)\n",
    "sst2_val_df = pd.DataFrame(sst2_val)\n",
    "sst2_test_df = pd.DataFrame(sst2_test)\n",
    "\n",
    "print(f\"SST2 Train Rows: {sst2_train_df.shape[0]} | Columns: {sst2_train_df.shape[1]}\")\n",
    "print(f\"SST2 Val Rows: {sst2_val_df.shape[0]} | Columns: {sst2_val_df.shape[1]}\")\n",
    "print(f\"SST2 Test Rows: {sst2_test_df.shape[0]} | Columns: {sst2_test_df.shape[1]}\")\n",
    "\n",
    "sst2_train_df.to_csv('./datasets/sst2/sst2_train.csv', index=False)\n",
    "sst2_val_df.to_csv('./datasets/sst2/sst2_val.csv', index=False)\n",
    "sst2_test_df.to_csv('./datasets/sst2/sst2_test.csv', index=False)"
   ]
  },
  {
   "cell_type": "code",
   "execution_count": 6,
   "metadata": {},
   "outputs": [
    {
     "data": {
      "application/vnd.jupyter.widget-view+json": {
       "model_id": "4a721fd0c5224d028835ba0e5de907f5",
       "version_major": 2,
       "version_minor": 0
      },
      "text/plain": [
       "Downloading data:   0%|          | 0.00/10.6M [00:00<?, ?B/s]"
      ]
     },
     "metadata": {},
     "output_type": "display_data"
    },
    {
     "data": {
      "application/vnd.jupyter.widget-view+json": {
       "model_id": "153f162ff195448c871d2aaf6f55a9ab",
       "version_major": 2,
       "version_minor": 0
      },
      "text/plain": [
       "Generating train split:   0%|          | 0/104743 [00:00<?, ? examples/s]"
      ]
     },
     "metadata": {},
     "output_type": "display_data"
    },
    {
     "data": {
      "application/vnd.jupyter.widget-view+json": {
       "model_id": "c275c905a34143729e9e6b06e1c80a56",
       "version_major": 2,
       "version_minor": 0
      },
      "text/plain": [
       "Generating validation split:   0%|          | 0/5463 [00:00<?, ? examples/s]"
      ]
     },
     "metadata": {},
     "output_type": "display_data"
    },
    {
     "data": {
      "application/vnd.jupyter.widget-view+json": {
       "model_id": "53785990e8c648859a475f916115acd5",
       "version_major": 2,
       "version_minor": 0
      },
      "text/plain": [
       "Generating test split:   0%|          | 0/5463 [00:00<?, ? examples/s]"
      ]
     },
     "metadata": {},
     "output_type": "display_data"
    },
    {
     "name": "stdout",
     "output_type": "stream",
     "text": [
      "QNLI Train Rows: 104743 | Columns: 4\n",
      "QNLI Val Rows: 5463 | Columns: 4\n",
      "QNLI Test Rows: 5463 | Columns: 4\n"
     ]
    }
   ],
   "source": [
    "qnli = download_data('qnli')\n",
    "\n",
    "qnli_train = qnli['train']\n",
    "qnli_val = qnli['validation']\n",
    "qnli_test = qnli['test']\n",
    "\n",
    "qnli_train_df = pd.DataFrame(qnli_train)\n",
    "qnli_val_df = pd.DataFrame(qnli_val)\n",
    "qnli_test_df = pd.DataFrame(qnli_test)\n",
    "\n",
    "print(f\"QNLI Train Rows: {qnli_train_df.shape[0]} | Columns: {qnli_train_df.shape[1]}\")\n",
    "print(f\"QNLI Val Rows: {qnli_val_df.shape[0]} | Columns: {qnli_val_df.shape[1]}\")\n",
    "print(f\"QNLI Test Rows: {qnli_test_df.shape[0]} | Columns: {qnli_test_df.shape[1]}\")\n",
    "\n",
    "qnli_train_df.to_csv('./datasets/qnli/qnli_train.csv', index=False)\n",
    "qnli_val_df.to_csv('./datasets/qnli/qnli_val.csv', index=False)\n",
    "qnli_test_df.to_csv('./datasets/qnli/qnli_test.csv', index=False)"
   ]
  },
  {
   "cell_type": "code",
   "execution_count": 7,
   "metadata": {},
   "outputs": [
    {
     "data": {
      "application/vnd.jupyter.widget-view+json": {
       "model_id": "5b600ec5483d4188bebf2915307c4787",
       "version_major": 2,
       "version_minor": 0
      },
      "text/plain": [
       "Downloading data:   0%|          | 0.00/41.7M [00:00<?, ?B/s]"
      ]
     },
     "metadata": {},
     "output_type": "display_data"
    },
    {
     "data": {
      "application/vnd.jupyter.widget-view+json": {
       "model_id": "ccaf0abbe3ad4a7b9cf9d85cf7847eb4",
       "version_major": 2,
       "version_minor": 0
      },
      "text/plain": [
       "Generating train split:   0%|          | 0/363846 [00:00<?, ? examples/s]"
      ]
     },
     "metadata": {},
     "output_type": "display_data"
    },
    {
     "data": {
      "application/vnd.jupyter.widget-view+json": {
       "model_id": "a0579f9eab6f4a1abc2f5e479660cdc3",
       "version_major": 2,
       "version_minor": 0
      },
      "text/plain": [
       "Generating validation split:   0%|          | 0/40430 [00:00<?, ? examples/s]"
      ]
     },
     "metadata": {},
     "output_type": "display_data"
    },
    {
     "data": {
      "application/vnd.jupyter.widget-view+json": {
       "model_id": "368b6a7b217348be9d958e9cc480d3ff",
       "version_major": 2,
       "version_minor": 0
      },
      "text/plain": [
       "Generating test split:   0%|          | 0/390965 [00:00<?, ? examples/s]"
      ]
     },
     "metadata": {},
     "output_type": "display_data"
    },
    {
     "name": "stdout",
     "output_type": "stream",
     "text": [
      "QQP Train Rows: 363846 | Columns: 4\n",
      "QQP Val Rows: 40430 | Columns: 4\n",
      "QQP Test Rows: 390965 | Columns: 4\n"
     ]
    }
   ],
   "source": [
    "qqp = download_data('qqp')\n",
    "\n",
    "qqp_train = qqp['train']\n",
    "qqp_val = qqp['validation']\n",
    "qqp_test = qqp['test']\n",
    "\n",
    "qqp_train_df = pd.DataFrame(qqp_train)\n",
    "qqp_val_df = pd.DataFrame(qqp_val)\n",
    "qqp_test_df = pd.DataFrame(qqp_test)\n",
    "\n",
    "\n",
    "print(f\"QQP Train Rows: {qqp_train_df.shape[0]} | Columns: {qqp_train_df.shape[1]}\")\n",
    "print(f\"QQP Val Rows: {qqp_val_df.shape[0]} | Columns: {qqp_val_df.shape[1]}\")\n",
    "print(f\"QQP Test Rows: {qqp_test_df.shape[0]} | Columns: {qqp_test_df.shape[1]}\")\n",
    "\n",
    "qqp_train_df.to_csv('./datasets/qqp/qqp_train.csv', index=False)\n",
    "qqp_val_df.to_csv('./datasets/qqp/qqp_val.csv', index=False)\n",
    "qqp_test_df.to_csv('./datasets/qqp/qqp_test.csv', index=False)"
   ]
  },
  {
   "cell_type": "code",
   "execution_count": 8,
   "metadata": {},
   "outputs": [
    {
     "data": {
      "application/vnd.jupyter.widget-view+json": {
       "model_id": "ccaaf3ae7f024cb7a71355a95db8d8e6",
       "version_major": 2,
       "version_minor": 0
      },
      "text/plain": [
       "Downloading data:   0%|          | 0.00/313M [00:00<?, ?B/s]"
      ]
     },
     "metadata": {},
     "output_type": "display_data"
    },
    {
     "data": {
      "application/vnd.jupyter.widget-view+json": {
       "model_id": "62abd84ecdb6401aa9f5d8592056906d",
       "version_major": 2,
       "version_minor": 0
      },
      "text/plain": [
       "Generating train split:   0%|          | 0/392702 [00:00<?, ? examples/s]"
      ]
     },
     "metadata": {},
     "output_type": "display_data"
    },
    {
     "data": {
      "application/vnd.jupyter.widget-view+json": {
       "model_id": "78d269d78e1348f48e46379ba41d3f69",
       "version_major": 2,
       "version_minor": 0
      },
      "text/plain": [
       "Generating validation_matched split:   0%|          | 0/9815 [00:00<?, ? examples/s]"
      ]
     },
     "metadata": {},
     "output_type": "display_data"
    },
    {
     "data": {
      "application/vnd.jupyter.widget-view+json": {
       "model_id": "0abed2dae730444abb7d6326d3077528",
       "version_major": 2,
       "version_minor": 0
      },
      "text/plain": [
       "Generating validation_mismatched split:   0%|          | 0/9832 [00:00<?, ? examples/s]"
      ]
     },
     "metadata": {},
     "output_type": "display_data"
    },
    {
     "data": {
      "application/vnd.jupyter.widget-view+json": {
       "model_id": "a8800acb52f741f6babf28e4ab08f9d5",
       "version_major": 2,
       "version_minor": 0
      },
      "text/plain": [
       "Generating test_matched split:   0%|          | 0/9796 [00:00<?, ? examples/s]"
      ]
     },
     "metadata": {},
     "output_type": "display_data"
    },
    {
     "data": {
      "application/vnd.jupyter.widget-view+json": {
       "model_id": "0061308609e248ae93c3b8bbdcf905f6",
       "version_major": 2,
       "version_minor": 0
      },
      "text/plain": [
       "Generating test_mismatched split:   0%|          | 0/9847 [00:00<?, ? examples/s]"
      ]
     },
     "metadata": {},
     "output_type": "display_data"
    },
    {
     "name": "stdout",
     "output_type": "stream",
     "text": [
      "MNLI Train Rows: 392702 | Columns: 4\n",
      "MNLI Val Rows: 9815 | Columns: 4\n",
      "MNLI Test Rows: 9796 | Columns: 4\n"
     ]
    }
   ],
   "source": [
    "mnli = download_data('mnli')\n",
    "\n",
    "mnli_train = mnli['train']\n",
    "mnli_val = mnli['validation_matched']\n",
    "mnli_test = mnli['test_matched']\n",
    "\n",
    "mnli_train_df = pd.DataFrame(mnli_train)\n",
    "mnli_val_df = pd.DataFrame(mnli_val)\n",
    "mnli_test_df = pd.DataFrame(mnli_test)\n",
    "\n",
    "print(f\"MNLI Train Rows: {mnli_train_df.shape[0]} | Columns: {mnli_train_df.shape[1]}\")\n",
    "print(f\"MNLI Val Rows: {mnli_val_df.shape[0]} | Columns: {mnli_val_df.shape[1]}\")\n",
    "print(f\"MNLI Test Rows: {mnli_test_df.shape[0]} | Columns: {mnli_test_df.shape[1]}\")\n",
    "\n",
    "mnli_train_df.to_csv('./datasets/mnli/mnli_train.csv', index=False)\n",
    "mnli_val_df.to_csv('./datasets/mnli/mnli_val.csv', index=False)\n",
    "mnli_test_df.to_csv('./datasets/mnli/mnli_test.csv', index=False)"
   ]
  }
 ],
 "metadata": {
  "kernelspec": {
   "display_name": "workenv",
   "language": "python",
   "name": "python3"
  },
  "language_info": {
   "codemirror_mode": {
    "name": "ipython",
    "version": 3
   },
   "file_extension": ".py",
   "mimetype": "text/x-python",
   "name": "python",
   "nbconvert_exporter": "python",
   "pygments_lexer": "ipython3",
   "version": "3.9.17"
  }
 },
 "nbformat": 4,
 "nbformat_minor": 2
}
